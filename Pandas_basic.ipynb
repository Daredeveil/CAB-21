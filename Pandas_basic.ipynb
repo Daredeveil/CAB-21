{
 "cells": [
  {
   "cell_type": "code",
   "execution_count": null,
   "metadata": {},
   "outputs": [],
   "source": [
    "# Pandas library is used for data manipulation and data analysis\n",
    "\n",
    "# Single-dimensional -> Series Object: series object is one-dimensional labeled array\n",
    "# Multi-dimensional -> Data-frame\n",
    "\n",
    "import pandas as pd"
   ]
  },
  {
   "cell_type": "code",
   "execution_count": null,
   "metadata": {},
   "outputs": [],
   "source": [
    "# Single-dimensional -> Series Object: series object is one-dimensional labeled array\n",
    "s1=pd.Series([1,2,3,4,5])\n",
    "print(s1)\n",
    "type(s1)\n",
    "\n",
    "# changing Index\n",
    "s1=pd.Series([1,2,3,4,5],index=['a','b','c','d','e'])\n",
    "print(s1)"
   ]
  },
  {
   "cell_type": "code",
   "execution_count": null,
   "metadata": {},
   "outputs": [],
   "source": [
    "# Single-dimensional -> Series Object from dictionary (key -> index and values -> values)\n",
    "s1=pd.Series({'a':10,'b':20,'c':30})\n",
    "print(s1)\n",
    "type(s1)\n",
    "\n",
    "# changing index position\n",
    "s2=pd.Series({'a':10,'b':20,'c':30},index=['a','c','e','b'])\n",
    "print(s2)"
   ]
  },
  {
   "cell_type": "code",
   "execution_count": null,
   "metadata": {},
   "outputs": [],
   "source": [
    "# Single-dimensional -> Series Object\n",
    "\n",
    "# Extracting a single element\n",
    "s1=pd.Series([1,2,3,4,5,6,7])\n",
    "print(s1[2])\n",
    "\n",
    "# Extracting elements from back\n",
    "print(s1[-2:])\n",
    "\n",
    "# Extracting a sequence of elements\n",
    "print(s1[:3])"
   ]
  },
  {
   "cell_type": "code",
   "execution_count": null,
   "metadata": {},
   "outputs": [],
   "source": [
    "# Multi-dimensional -> Data-frame\n",
    "# Dataframe is a 2-dimensional labelled data-structure -> comprises of rows and columns\n",
    "\n",
    "# Creating a Dataframe from dictionary\n",
    "s1=pd.DataFrame({\"Name\":['Bob','Sam','Anne'],\"Marks\":[76,25,92]})\n",
    "print(s1)"
   ]
  },
  {
   "cell_type": "code",
   "execution_count": null,
   "metadata": {},
   "outputs": [],
   "source": [
    "# Dataframe In-Build Functions\n",
    "# head() -> first 5 rows\n",
    "# tail() -> last 5 rows\n",
    "# shape -> no. of rows and columns\n",
    "# describe() -> general information\n",
    "\n",
    "movies=pd.read_csv('movies.csv')\n",
    "movies.head()"
   ]
  },
  {
   "cell_type": "code",
   "execution_count": null,
   "metadata": {},
   "outputs": [],
   "source": [
    "movies.tail()"
   ]
  },
  {
   "cell_type": "code",
   "execution_count": null,
   "metadata": {},
   "outputs": [],
   "source": [
    "movies.shape"
   ]
  },
  {
   "cell_type": "code",
   "execution_count": null,
   "metadata": {},
   "outputs": [],
   "source": [
    "movies.describe()"
   ]
  },
  {
   "cell_type": "code",
   "execution_count": null,
   "metadata": {},
   "outputs": [],
   "source": [
    "# iloc[] -> use to extract rows and cloumns through index\n",
    "movies.iloc[5:10,0:3] # 1st argument is rows (last index is not inclusive), 2nd argument is columns"
   ]
  },
  {
   "cell_type": "code",
   "execution_count": null,
   "metadata": {},
   "outputs": [],
   "source": [
    "# loc[] -> use to extract rows and cloumns\n",
    "movies.loc[0:3,(\"Film\",\"Lead Studio\")] # 1st argument is rows (last index is inclusive), 2nd argument is columns headings"
   ]
  },
  {
   "cell_type": "code",
   "execution_count": null,
   "metadata": {},
   "outputs": [],
   "source": [
    "movies.min()"
   ]
  },
  {
   "cell_type": "code",
   "execution_count": null,
   "metadata": {},
   "outputs": [],
   "source": [
    "movies.max()"
   ]
  },
  {
   "cell_type": "code",
   "execution_count": null,
   "metadata": {},
   "outputs": [],
   "source": [
    "movies.mean()"
   ]
  },
  {
   "cell_type": "code",
   "execution_count": null,
   "metadata": {},
   "outputs": [],
   "source": [
    "movies.median()"
   ]
  },
  {
   "cell_type": "code",
   "execution_count": null,
   "metadata": {},
   "outputs": [],
   "source": [
    "# Value_counts() -> catagorical values count\n",
    "movies['Genre'].value_counts()\n"
   ]
  },
  {
   "cell_type": "code",
   "execution_count": null,
   "metadata": {},
   "outputs": [],
   "source": [
    " # sort_values() -> sorting with respect to specific columns\n",
    " movies.sort_values(by='Genre')"
   ]
  },
  {
   "cell_type": "code",
   "execution_count": null,
   "metadata": {},
   "outputs": [],
   "source": [
    "# Assigment Module-1/Assignment-1/Sprint-2/Task-1\n",
    "\n",
    "# Print first 10 records\n",
    "s1=movies.iloc[0:11,]\n",
    "s1"
   ]
  },
  {
   "cell_type": "code",
   "execution_count": null,
   "metadata": {},
   "outputs": [],
   "source": [
    "# What are the data types of the columns\n",
    "s2=movies.dtypes\n",
    "s2"
   ]
  },
  {
   "cell_type": "code",
   "execution_count": null,
   "metadata": {},
   "outputs": [],
   "source": [
    "# Count of Animation movies\n",
    "s3=movies['Genre'].value_counts()\n",
    "s3"
   ]
  },
  {
   "cell_type": "code",
   "execution_count": null,
   "metadata": {},
   "outputs": [],
   "source": [
    "# Show the Comedy movies in the year 2007\n",
    "s5=movies[(movies['Year']==2007) & (movies['Genre'] == 'Comedy')]\n",
    "s5"
   ]
  },
  {
   "cell_type": "code",
   "execution_count": null,
   "metadata": {},
   "outputs": [],
   "source": [
    "# Count of Animation movies with more than 70% Audience Score\n",
    "s5=movies[(movies['Audience score %'] > 70) & (movies['Genre'] == 'Animation')]\n",
    "s5"
   ]
  },
  {
   "cell_type": "code",
   "execution_count": null,
   "metadata": {},
   "outputs": [],
   "source": [
    "# Show the list of top 5 movies based on profitability\n",
    "s6=movies.sort_values(by='Profitability', ascending=False).head(5)\n",
    "s6"
   ]
  },
  {
   "cell_type": "code",
   "execution_count": null,
   "metadata": {},
   "outputs": [],
   "source": [
    "# Show the top 5 Comedy movies approved by the audience\n",
    "s7=movies[(movies['Genre'] == 'Comedy') & (movies['Audience score %'] > 76)]\n",
    "s7"
   ]
  }
 ],
 "metadata": {
  "interpreter": {
   "hash": "7812ea015bdcee6f23a998adcdd2ef97c151c0c241b7b7070987d9313e41299d"
  },
  "kernelspec": {
   "display_name": "Python 3.9.5 64-bit ('3.9')",
   "name": "python3"
  },
  "language_info": {
   "codemirror_mode": {
    "name": "ipython",
    "version": 3
   },
   "file_extension": ".py",
   "mimetype": "text/x-python",
   "name": "python",
   "nbconvert_exporter": "python",
   "pygments_lexer": "ipython3",
   "version": "3.9.5"
  },
  "orig_nbformat": 4
 },
 "nbformat": 4,
 "nbformat_minor": 2
}