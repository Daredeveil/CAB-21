{
 "cells": [
  {
   "cell_type": "code",
   "execution_count": 2,
   "metadata": {},
   "outputs": [
    {
     "data": {
      "text/plain": [
       "array([0., 0., 0., 0., 0., 0., 0., 0., 0., 0.])"
      ]
     },
     "execution_count": 2,
     "metadata": {},
     "output_type": "execute_result"
    }
   ],
   "source": [
    "import numpy as np\n",
    "a = np.zeros(10)\n",
    "a"
   ]
  },
  {
   "cell_type": "code",
   "execution_count": 3,
   "metadata": {},
   "outputs": [
    {
     "data": {
      "text/plain": [
       "(10,)"
      ]
     },
     "execution_count": 3,
     "metadata": {},
     "output_type": "execute_result"
    }
   ],
   "source": [
    "a.shape"
   ]
  },
  {
   "cell_type": "code",
   "execution_count": 4,
   "metadata": {},
   "outputs": [
    {
     "name": "stdout",
     "output_type": "stream",
     "text": [
      "[2.   2.25 2.5  2.75 3.  ]\n"
     ]
    }
   ],
   "source": [
    "b = np.linspace(2, 3, 5)  # From 2 to 3, with 5 elements\n",
    "print(b)"
   ]
  },
  {
   "cell_type": "code",
   "execution_count": 5,
   "metadata": {},
   "outputs": [
    {
     "name": "stdout",
     "output_type": "stream",
     "text": [
      "[[1 2 3 4 5 6 7]]\n"
     ]
    },
    {
     "data": {
      "text/plain": [
       "numpy.ndarray"
      ]
     },
     "execution_count": 5,
     "metadata": {},
     "output_type": "execute_result"
    }
   ],
   "source": [
    "a_list = [1,2,3,4,5,6,7]\n",
    "z = np.array([a_list])\n",
    "print(z)\n",
    "type(z)"
   ]
  },
  {
   "cell_type": "code",
   "execution_count": 6,
   "metadata": {},
   "outputs": [
    {
     "name": "stdout",
     "output_type": "stream",
     "text": [
      "[10 20 30 40]\n"
     ]
    },
    {
     "data": {
      "text/plain": [
       "numpy.ndarray"
      ]
     },
     "execution_count": 6,
     "metadata": {},
     "output_type": "execute_result"
    }
   ],
   "source": [
    "n1=np.array([10,20,30,40])\n",
    "print(n1)\n",
    "type(n1)"
   ]
  },
  {
   "cell_type": "code",
   "execution_count": 7,
   "metadata": {},
   "outputs": [
    {
     "data": {
      "text/plain": [
       "array([[1, 2, 3, 4],\n",
       "       [5, 6, 7, 8]])"
      ]
     },
     "execution_count": 7,
     "metadata": {},
     "output_type": "execute_result"
    }
   ],
   "source": [
    "n2=np.array([[1,2,3,4],[5,6,7,8]])\n",
    "n2"
   ]
  },
  {
   "cell_type": "code",
   "execution_count": 8,
   "metadata": {},
   "outputs": [
    {
     "name": "stdout",
     "output_type": "stream",
     "text": [
      "[[0. 0. 0.]\n",
      " [0. 0. 0.]]\n"
     ]
    },
    {
     "data": {
      "text/plain": [
       "numpy.ndarray"
      ]
     },
     "execution_count": 8,
     "metadata": {},
     "output_type": "execute_result"
    }
   ],
   "source": [
    "# Initializing NumPy array with zeros\n",
    "n3=np.zeros((2,3)) # 2 rows, 3 columns\n",
    "print(n3)\n",
    "type(n3)"
   ]
  },
  {
   "cell_type": "code",
   "execution_count": 9,
   "metadata": {},
   "outputs": [
    {
     "data": {
      "text/plain": [
       "array([[10, 10],\n",
       "       [10, 10]])"
      ]
     },
     "execution_count": 9,
     "metadata": {},
     "output_type": "execute_result"
    }
   ],
   "source": [
    "# Initializing NumPy array with same number\n",
    "n4=np.full((2,2),10) # 2x2 with value 10\n",
    "n4"
   ]
  },
  {
   "cell_type": "code",
   "execution_count": 10,
   "metadata": {},
   "outputs": [
    {
     "name": "stdout",
     "output_type": "stream",
     "text": [
      "[10 11 12 13 14 15 16 17 18 19]\n",
      "[10 12 14 16 18]\n"
     ]
    }
   ],
   "source": [
    "# Initializing NumPy array within a range\n",
    "n5=np.arange(10,20) # values from 10 till 20\n",
    "print(n5)\n",
    "\n",
    "n6=np.arange(10,20,2) # values from 10 till 20 with interval of 2\n",
    "print(n6)"
   ]
  },
  {
   "cell_type": "code",
   "execution_count": 11,
   "metadata": {},
   "outputs": [
    {
     "name": "stdout",
     "output_type": "stream",
     "text": [
      "[60 24 33 43 26 90 72 85 62 22]\n"
     ]
    }
   ],
   "source": [
    "# Initializing NumPy array with random numbers\n",
    "n7=np.random.randint(1,100,10) # generate 5 random values between 1-100\n",
    "print(n7)"
   ]
  },
  {
   "cell_type": "code",
   "execution_count": 12,
   "metadata": {},
   "outputs": [
    {
     "name": "stdout",
     "output_type": "stream",
     "text": [
      "[[1 2 3 4]\n",
      " [5 6 7 8]]\n",
      "(2, 4)\n",
      "[[1 2]\n",
      " [3 4]\n",
      " [5 6]\n",
      " [7 8]]\n"
     ]
    }
   ],
   "source": [
    "# Checking the shape of NumPy array\n",
    "n8=np.array([[1,2,3,4],[5,6,7,8]])\n",
    "print(n8)\n",
    "print(n8.shape) # no. of row and no. of columns\n",
    "\n",
    "# Inverting the shape of the array\n",
    "n8.shape=(4,2) # change the shape of the array\n",
    "print(n8)"
   ]
  },
  {
   "cell_type": "code",
   "execution_count": 13,
   "metadata": {},
   "outputs": [
    {
     "name": "stdout",
     "output_type": "stream",
     "text": [
      "[[10 20 30]\n",
      " [50 60 70]]\n",
      "[ 5 10 15 20 25 30]\n",
      "[[1 4]\n",
      " [2 5]\n",
      " [3 6]]\n"
     ]
    }
   ],
   "source": [
    "# Joining NumPy arrays\n",
    "# vstack(), vertical stacking\n",
    "n9=np.array([10,20,30])\n",
    "n10=np.array([50,60,70])\n",
    "\n",
    "print(np.vstack((n9,n10)))\n",
    "\n",
    "# hstack(), horizontal stacking\n",
    "n11=np.array([5,10,15])\n",
    "n12=np.array([20,25,30])\n",
    "\n",
    "print(np.hstack((n11,n12)))\n",
    "\n",
    "# cloumn_stack(), convert rows to column\n",
    "n13=np.array([1,2,3])\n",
    "n14=np.array([4,5,6])\n",
    "\n",
    "print(np.column_stack((n13,n14)))\n",
    "\n"
   ]
  },
  {
   "cell_type": "code",
   "execution_count": 14,
   "metadata": {},
   "outputs": [
    {
     "name": "stdout",
     "output_type": "stream",
     "text": [
      "[40 50 60]\n",
      "[10 20 30]\n",
      "[70]\n"
     ]
    }
   ],
   "source": [
    "# NumPy Intersection and Difference\n",
    "\n",
    "# intersection is used to find common elements in the array\n",
    "n15=np.array([10,20,30,40,50,60])\n",
    "n16=np.array([40,50,60,70])\n",
    "\n",
    "print(np.intersect1d(n15,n16))\n",
    "\n",
    "# difference is used to find different elements in the array\n",
    "print(np.setdiff1d(n15,n16)) # gives different element of n15 from n16\n",
    "print(np.setdiff1d(n16,n15)) # gives different element of n16 from n15"
   ]
  },
  {
   "cell_type": "code",
   "execution_count": 15,
   "metadata": {},
   "outputs": [
    {
     "name": "stdout",
     "output_type": "stream",
     "text": [
      "210\n",
      "[50 70 90]\n",
      "[ 60 150]\n",
      "[11 21 31]\n",
      "50.0\n",
      "8.16496580927726\n",
      "50.0\n"
     ]
    }
   ],
   "source": [
    "# NumPy Array Mathematics\n",
    "\n",
    "# Addition of NumPy Arrays\n",
    "n17=np.array([10,20,30])\n",
    "n18=np.array([40,50,60])\n",
    "print(np.sum([n17,n18]))\n",
    "\n",
    "# Adding column elements\n",
    "print(np.sum([n17,n18],axis=0))\n",
    "\n",
    "# Adding row elements\n",
    "print(np.sum([n17,n18],axis=1))\n",
    "\n",
    "# Basic Addition, similarly subtraction, multiplication and division\n",
    "n17=n17+1\n",
    "print(n17)\n",
    "\n",
    "# Mean\n",
    "print(np.mean(n18))\n",
    "\n",
    "# Standard Deviation\n",
    "print(np.std(n18))\n",
    "\n",
    "# Median\n",
    "print(np.median(n18))"
   ]
  },
  {
   "cell_type": "code",
   "execution_count": 16,
   "metadata": {},
   "outputs": [
    {
     "name": "stdout",
     "output_type": "stream",
     "text": [
      "[10 20 35 45]\n"
     ]
    }
   ],
   "source": [
    "# NumPy Array save and load\n",
    "\n",
    "# Saving NumPy Array\n",
    "n19=np.array([10,20,35,45])\n",
    "np.save('my_numpy',n19)\n",
    "\n",
    "# Loading NumPy Array\n",
    "n20=np.load('my_numpy.npy')\n",
    "print(n20)"
   ]
  },
  {
   "cell_type": "code",
   "execution_count": null,
   "metadata": {},
   "outputs": [],
   "source": []
  }
 ],
 "metadata": {
  "interpreter": {
   "hash": "7812ea015bdcee6f23a998adcdd2ef97c151c0c241b7b7070987d9313e41299d"
  },
  "kernelspec": {
   "display_name": "Python 3.9.5 64-bit ('3.9')",
   "name": "python3"
  },
  "language_info": {
   "codemirror_mode": {
    "name": "ipython",
    "version": 3
   },
   "file_extension": ".py",
   "mimetype": "text/x-python",
   "name": "python",
   "nbconvert_exporter": "python",
   "pygments_lexer": "ipython3",
   "version": "3.9.5"
  },
  "orig_nbformat": 4
 },
 "nbformat": 4,
 "nbformat_minor": 2
}